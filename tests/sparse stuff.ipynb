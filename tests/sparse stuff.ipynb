{
 "cells": [
  {
   "cell_type": "markdown",
   "id": "d5f8dbc5-6f53-42ff-b217-a4facc8cd54f",
   "metadata": {},
   "source": [
    "# Tests on how I handle sparsity. will move into a unit test file"
   ]
  },
  {
   "cell_type": "code",
   "execution_count": 1,
   "id": "a935fcb5-b455-45f6-8a11-6e70d42b1bf8",
   "metadata": {},
   "outputs": [],
   "source": [
    "import logging\n",
    "import itertools as it\n",
    "import os\n",
    "import sys\n",
    "import warnings\n",
    "from time import perf_counter\n",
    "def append_path(s):\n",
    "    if s in sys.path:\n",
    "        return\n",
    "    sys.path.append(s)\n",
    "    \n",
    "#You don’t need those lines if you installed the packages\n",
    "append_path(\"/home/tristan/research/ot_markov_distances/\")\n",
    "append_path(\"/home/tristan/research/ot_markov_distances/experiments\")\n",
    "append_path(\"/home/tristan/research/tb_ml/\")\n",
    "append_path(\"/home/tristan/research/FGW/lib\")\n",
    "\n",
    "logging.basicConfig(level=logging.INFO, force=True)"
   ]
  },
  {
   "cell_type": "code",
   "execution_count": 2,
   "id": "8cdd8899-1adf-45b1-bfb1-9e9b5d4ad820",
   "metadata": {},
   "outputs": [],
   "source": [
    "import torch\n",
    "from torch import Tensor"
   ]
  },
  {
   "cell_type": "code",
   "execution_count": 3,
   "id": "5ed1ce4c-aa6c-4156-81d4-5e7b0b6c3705",
   "metadata": {},
   "outputs": [],
   "source": [
    "from ml_lib.misc import all_equal\n",
    "from ot_markov_distances import wl_reg_infty, sinkhorn\n",
    "from ot_markov_distances.utils import weighted_transition_matrix, draw_markov, densify\n",
    "\n",
    "from utils.modules import ParametricMarkovMatrixWithMatchings\n",
    "from utils.data_generation import circle_graph\n",
    "\n"
   ]
  },
  {
   "cell_type": "code",
   "execution_count": 4,
   "id": "c3a6beff-e279-4b31-9631-bfa2e7578f60",
   "metadata": {},
   "outputs": [],
   "source": [
    "# prepare fake test data\n",
    "batch_size = 2\n",
    "n1, n2 = 17, 23\n",
    "test_sizes=[n1] * batch_size\n",
    "test_graphs = [circle_graph(size, kind=\"nn\", k=2) for size in test_sizes]\n",
    "test_matrices = [weighted_transition_matrix(g, q=.1) for g in test_graphs]\n",
    "mx = torch.stack(test_matrices)\n",
    "test_sizes=[n2] * batch_size\n",
    "test_graphs = [circle_graph(size, kind=\"nn\", k=3) for size in test_sizes]\n",
    "test_matrices = [weighted_transition_matrix(g, q=.1) for g in test_graphs]\n",
    "my = torch.stack(test_matrices)\n",
    "\n",
    "\n",
    "C = torch.rand((batch_size, n1, n2)) * 5"
   ]
  },
  {
   "cell_type": "markdown",
   "id": "e482ac3c-5fe8-4ad7-a056-753427d5b2d3",
   "metadata": {},
   "source": [
    "## stuff on MX"
   ]
  },
  {
   "cell_type": "raw",
   "id": "b7b1a2ce-d904-499b-bd86-92f3ac0b6574",
   "metadata": {},
   "source": [
    "# useful variables\n",
    "*batch, n, n_ = mx.shape\n",
    "assert all_equal(n, n_)\n",
    "\n",
    "# flat stuff\n",
    "mx_flat = mx.view(-1, n1)\n",
    "my_flat= my.view(-1, n2)\n",
    "n_flat, _ = mx_flat.shape #n_flat = n * batch\n",
    "mx_flat.shape, my_flat.shape"
   ]
  },
  {
   "cell_type": "code",
   "execution_count": 6,
   "id": "5aab0e6f-a5a6-45ba-b1b0-e03d87d5238f",
   "metadata": {},
   "outputs": [
    {
     "data": {
      "text/plain": [
       "tensor(5)"
      ]
     },
     "execution_count": 6,
     "metadata": {},
     "output_type": "execute_result"
    }
   ],
   "source": [
    "# max degree\n",
    "mx_flat_degree = (mx_flat>0).sum(-1)\n",
    "mx_max_degree = mx_flat_degree.max()\n",
    "mx_max_degree\n"
   ]
  },
  {
   "cell_type": "code",
   "execution_count": 7,
   "id": "ca97e52f-9e97-4087-8ecd-c0dddaf2ddee",
   "metadata": {},
   "outputs": [],
   "source": [
    "# indices and padding masks\n",
    "nonzero_indices = torch.zeros((*batch, n, mx_max_degree), dtype=torch.long)\n",
    "nonzero_indices_mask = torch.zeros((*batch, n, mx_max_degree), dtype=bool)\n",
    "nzi_flat = nonzero_indices.view(-1, mx_max_degree)\n",
    "nzi_flat_mask = nonzero_indices_mask.view(-1, mx_max_degree)\n",
    "\n",
    "for i in range(n_flat):\n",
    "    line, = mx_flat[i].nonzero(as_tuple=True)\n",
    "    line_len = len(line)\n",
    "    nzi_flat[i, :line_len] = line\n",
    "    nzi_flat_mask[i, :line_len] = 1\n"
   ]
  },
  {
   "cell_type": "code",
   "execution_count": 8,
   "id": "55cfb3b0-a8d6-4cb7-9af9-01fd7c15a55d",
   "metadata": {},
   "outputs": [],
   "source": [
    "#densified\n",
    "# we want mx_dense[*b, i, k] = mx[*b, i, nonzero_indices[*b, i, k]] if nonzero_indices_mask[*b, i, k] else 0\n",
    "mx_dense = torch.empty((*batch, n, mx_max_degree))\n",
    "mx_dense_flat = mx_dense.view((-1, mx_max_degree))\n",
    "mx_dense_flat[...] = torch.where(nzi_flat_mask, mx_flat.gather(1, nzi_flat), 0)\n"
   ]
  },
  {
   "cell_type": "code",
   "execution_count": 9,
   "id": "8a88a681-704c-4497-80cb-0529dece83d8",
   "metadata": {},
   "outputs": [
    {
     "data": {
      "text/plain": [
       "tensor([[0.1000, 0.3000, 0.3000, 0.3000, 0.0000],\n",
       "        [0.4500, 0.1000, 0.4500, 0.0000, 0.0000],\n",
       "        [0.3000, 0.3000, 0.1000, 0.3000, 0.0000],\n",
       "        [0.1000, 0.3000, 0.3000, 0.3000, 0.0000],\n",
       "        [0.1000, 0.4500, 0.4500, 0.0000, 0.0000],\n",
       "        [0.1000, 0.4500, 0.4500, 0.0000, 0.0000],\n",
       "        [0.2250, 0.1000, 0.2250, 0.2250, 0.2250],\n",
       "        [0.4500, 0.1000, 0.4500, 0.0000, 0.0000],\n",
       "        [0.2250, 0.2250, 0.1000, 0.2250, 0.2250],\n",
       "        [0.4500, 0.1000, 0.4500, 0.0000, 0.0000],\n",
       "        [0.4500, 0.1000, 0.4500, 0.0000, 0.0000],\n",
       "        [0.3000, 0.1000, 0.3000, 0.3000, 0.0000],\n",
       "        [0.3000, 0.3000, 0.3000, 0.1000, 0.0000],\n",
       "        [0.3000, 0.3000, 0.3000, 0.1000, 0.0000],\n",
       "        [0.3000, 0.3000, 0.3000, 0.1000, 0.0000],\n",
       "        [0.4500, 0.1000, 0.4500, 0.0000, 0.0000],\n",
       "        [0.3000, 0.3000, 0.3000, 0.1000, 0.0000],\n",
       "        [0.1000, 0.2250, 0.2250, 0.2250, 0.2250],\n",
       "        [0.1000, 0.4500, 0.4500, 0.0000, 0.0000],\n",
       "        [0.4500, 0.1000, 0.4500, 0.0000, 0.0000],\n",
       "        [0.1000, 0.4500, 0.4500, 0.0000, 0.0000],\n",
       "        [0.1000, 0.4500, 0.4500, 0.0000, 0.0000],\n",
       "        [0.1000, 0.3000, 0.3000, 0.3000, 0.0000],\n",
       "        [0.3000, 0.1000, 0.3000, 0.3000, 0.0000],\n",
       "        [0.4500, 0.1000, 0.4500, 0.0000, 0.0000],\n",
       "        [0.3000, 0.3000, 0.1000, 0.3000, 0.0000],\n",
       "        [0.4500, 0.1000, 0.4500, 0.0000, 0.0000],\n",
       "        [0.1000, 0.4500, 0.4500, 0.0000, 0.0000],\n",
       "        [0.2250, 0.2250, 0.2250, 0.2250, 0.1000],\n",
       "        [0.4500, 0.1000, 0.4500, 0.0000, 0.0000],\n",
       "        [0.3000, 0.3000, 0.3000, 0.1000, 0.0000],\n",
       "        [0.3000, 0.3000, 0.3000, 0.1000, 0.0000],\n",
       "        [0.3000, 0.3000, 0.3000, 0.1000, 0.0000],\n",
       "        [0.4500, 0.4500, 0.1000, 0.0000, 0.0000]])"
      ]
     },
     "execution_count": 9,
     "metadata": {},
     "output_type": "execute_result"
    }
   ],
   "source": [
    "mx_dense_flat"
   ]
  },
  {
   "cell_type": "code",
   "execution_count": 10,
   "id": "907a2dd0-4389-4622-8d9f-e2067601abfd",
   "metadata": {},
   "outputs": [],
   "source": [
    "mx_index2, mx_mask2, mx_dense2 =  densify(mx)\n"
   ]
  },
  {
   "cell_type": "markdown",
   "id": "dbe2f016-283f-4370-b237-eb179754bbc7",
   "metadata": {},
   "source": [
    " ### Unit tests !"
   ]
  },
  {
   "cell_type": "code",
   "execution_count": 11,
   "id": "8edbbf06-cd16-4dbb-a65d-63198e1e80fd",
   "metadata": {},
   "outputs": [],
   "source": [
    "assert (mx_index2 ==  nonzero_indices).all()\n",
    "assert (mx_mask2 == nonzero_indices_mask).all()\n",
    "\n",
    "assert torch.allclose(mx_dense.sum(-1), torch.tensor(1.))"
   ]
  },
  {
   "cell_type": "code",
   "execution_count": 12,
   "id": "40abe906-bbc2-46e5-bafc-b6bb5b22c361",
   "metadata": {},
   "outputs": [],
   "source": [
    "for b, i, j in it.product(*(range(i) for i in (*batch, n, mx_max_degree))):\n",
    "    assert mx_dense2[b, i, j] == mx[b, i, mx_index2[b, i, j]] or not mx_mask2[b, i, j].item()"
   ]
  },
  {
   "cell_type": "code",
   "execution_count": 13,
   "id": "f22c5620-2ed9-42a1-8b62-72f3507f6535",
   "metadata": {},
   "outputs": [],
   "source": [
    "for b, i, j in it.product(*(range(i) for i in (*batch, n, n))):\n",
    "    assert (mx[b, i, j].item() == 0) == (\n",
    "        j not in mx_index2[b, i]\n",
    "        or not mx_mask2[b, i, list(mx_index2[b, i]).index(j)]\n",
    "    ) "
   ]
  },
  {
   "cell_type": "markdown",
   "id": "a8094b99-9980-4de7-8a83-237d027ab306",
   "metadata": {},
   "source": [
    "## Stuff on C"
   ]
  },
  {
   "cell_type": "code",
   "execution_count": 14,
   "id": "65d68985-c9f6-4be4-b6d1-ab65efcc9fd4",
   "metadata": {},
   "outputs": [],
   "source": [
    "C = torch.rand((batch_size, n1, n2)) * 5"
   ]
  },
  {
   "cell_type": "code",
   "execution_count": 15,
   "id": "7359d6c2-d889-414b-87a3-7f4f7bef836d",
   "metadata": {},
   "outputs": [
    {
     "data": {
      "text/plain": [
       "torch.Size([2, 17, 23])"
      ]
     },
     "execution_count": 15,
     "metadata": {},
     "output_type": "execute_result"
    }
   ],
   "source": [
    "mx_index, mx_mask, mx_dense =  densify(mx)\n",
    "my_index, my_mask, my_dense =  densify(my)\n",
    "C.shape"
   ]
  },
  {
   "cell_type": "code",
   "execution_count": 16,
   "id": "a6d22875-d7da-4179-99f6-fabf9ba94c90",
   "metadata": {},
   "outputs": [
    {
     "data": {
      "text/plain": [
       "torch.Size([2, 17, 5])"
      ]
     },
     "execution_count": 16,
     "metadata": {},
     "output_type": "execute_result"
    }
   ],
   "source": [
    "mx_index.shape"
   ]
  },
  {
   "cell_type": "code",
   "execution_count": 17,
   "id": "0f8c7661-536d-47ea-bc64-8c4afb2c6a4a",
   "metadata": {},
   "outputs": [
    {
     "data": {
      "text/plain": [
       "torch.Size([2, 23, 7])"
      ]
     },
     "execution_count": 17,
     "metadata": {},
     "output_type": "execute_result"
    }
   ],
   "source": [
    "my_index.shape"
   ]
  },
  {
   "cell_type": "code",
   "execution_count": 18,
   "id": "b22a77c0-0d66-4246-b29f-af30472c9a78",
   "metadata": {},
   "outputs": [],
   "source": [
    "# we’re assuming all this has already been broadcast to each other, so batches should be the same \n",
    "b, n, m = C.shape\n",
    "b_, n_, dx = mx_index.shape\n",
    "b__, m_, dy = my_index.shape\n",
    "assert all_equal(b, b_, b__) and n == n_ and m == m_"
   ]
  },
  {
   "cell_type": "code",
   "execution_count": 19,
   "id": "471b894e-42fe-486b-bb7c-ab0cdca88095",
   "metadata": {},
   "outputs": [],
   "source": [
    "C = C.contiguous()\n",
    "\n",
    "C_index =  m * mx_index[:, :, None, :, None] +  my_index[:, None, :, None, :]\n",
    "# b, n, m, dx, dy\n",
    "C_index = C_index.reshape(b, n, m, dx*dy)\n",
    "C_dense = C.view(b, n * m)[:, None, None, :]\\\n",
    "    .broadcast_to(b, n, m, n*m)\\\n",
    "    .gather(-1, C_index)\\\n",
    "    .reshape(b, n, m, dx, dy)\n",
    "# believe me it works\n",
    "# god I hate indices\n",
    "\n",
    "for bi, ni, mi, i1, i2 in it.product(range(b), range(n), range(m), range(dx), range(dy)):\n",
    "    #print(bi, ni, mi, i1, i2)\n",
    "    assert C_dense[bi, ni, mi, i1, i2] == C[bi, mx_index[bi, ni, i1], my_index[bi, mi, i2]]\n",
    "    \n",
    "    "
   ]
  },
  {
   "cell_type": "code",
   "execution_count": 20,
   "id": "327fd2e0-a97c-4a59-8ca6-43c406308ac0",
   "metadata": {},
   "outputs": [
    {
     "data": {
      "text/plain": [
       "torch.Size([2])"
      ]
     },
     "execution_count": 20,
     "metadata": {},
     "output_type": "execute_result"
    }
   ],
   "source": [
    "torch.arange(0, b * C.stride(0), step=C.stride(0)).shape"
   ]
  },
  {
   "cell_type": "code",
   "execution_count": 21,
   "id": "f014aeb6-8d94-4743-9eaa-6221d568483e",
   "metadata": {},
   "outputs": [
    {
     "data": {
      "text/plain": [
       "tensor(True)"
      ]
     },
     "execution_count": 21,
     "metadata": {},
     "output_type": "execute_result"
    }
   ],
   "source": [
    "C_index2 = C.stride(1) * mx_index[:, :, None, :, None] +  my_index[:, None, :, None, :] + torch.arange(0, b * C.stride(0), step=C.stride(0))[:, None, None, None, None]\n",
    "C_index2.shape\n",
    "\n",
    "(C.view(-1)[C_index2] == C_dense).all()"
   ]
  },
  {
   "cell_type": "code",
   "execution_count": 22,
   "id": "d826eafc-8405-412f-8644-f6a7fd3df87a",
   "metadata": {},
   "outputs": [],
   "source": [
    "C_mask = (mx_mask[:, :, None, :, None] & my_mask[:, None, :, None, :])\n",
    "C_dense[C_mask == False] = 1."
   ]
  },
  {
   "cell_type": "code",
   "execution_count": 23,
   "id": "93ae8b03-d331-4d09-b96a-b378f519eb5b",
   "metadata": {},
   "outputs": [
    {
     "data": {
      "text/plain": [
       "True"
      ]
     },
     "execution_count": 23,
     "metadata": {},
     "output_type": "execute_result"
    }
   ],
   "source": [
    "torch.allclose(sinkhorn(mx_dense[:, :, None, :], my_dense[:, None, :, :], C_dense, epsilon=.1 ) , sinkhorn(mx[:, :, None, :], my[:, None, :, :], C[:, None, None, :, :], epsilon=.1), atol=1e-4, rtol=1e-2)"
   ]
  },
  {
   "cell_type": "code",
   "execution_count": 24,
   "id": "deb44f1d-0502-40b3-9d45-adb798d795eb",
   "metadata": {},
   "outputs": [
    {
     "name": "stdout",
     "output_type": "stream",
     "text": [
      "4.73 s ± 83 ms per loop (mean ± std. dev. of 7 runs, 1 loop each)\n"
     ]
    }
   ],
   "source": [
    "%%timeit\n",
    "sinkhorn(mx_dense[:, :, None, :], my_dense[:, None, :, :], C_dense, epsilon=.1 )"
   ]
  },
  {
   "cell_type": "code",
   "execution_count": 25,
   "id": "e292ae85-9a3d-47ab-82e5-1bfdfb21a344",
   "metadata": {},
   "outputs": [
    {
     "name": "stdout",
     "output_type": "stream",
     "text": [
      "23.6 s ± 4.41 s per loop (mean ± std. dev. of 7 runs, 1 loop each)\n"
     ]
    }
   ],
   "source": [
    "%%timeit \n",
    "sinkhorn(mx[:, :, None, :], my[:, None, :, :], C[:, None, None, :, :], epsilon=.1)"
   ]
  },
  {
   "cell_type": "markdown",
   "id": "d075d1fe-b8b8-4a94-92fd-96ec8563e5e9",
   "metadata": {},
   "source": [
    "That’s nice, isn’t it"
   ]
  },
  {
   "cell_type": "code",
   "execution_count": 26,
   "id": "7e57420b-d467-4688-8df3-8cd714c66f53",
   "metadata": {},
   "outputs": [],
   "source": [
    "%%script true\n",
    "\n",
    "# this may be slightly more general, but it requires non contiguous reshaping, so we end up having to copy C.\n",
    "# which kills the purpose\n",
    "\n",
    "mx_index, mx_mask, mx_dense =  densify(mx)\n",
    "my_index, my_mask, my_dense =  densify(my)\n",
    "# we’re assuming all this has already been broadcast to each other, so batches should be the same \n",
    "mx_index = mx_index[:, :, None, :]\n",
    "my_index = my_index[:, None, :, :]\n",
    "mx_mask = mx_mask[:, :, None, :]\n",
    "my_mask = my_mask[:, None, :, :]\n",
    "\n",
    "C = C[:, None, None, :, :]\n",
    "# we’re assuming all this has already been broadcast to each other, so batches should be the same \n",
    "*batch1, dx = mx_index.shape\n",
    "*batch2, dy = my_index.shape\n",
    "*batch3, n, m = C.shape\n",
    "batch = torch.broadcast_shapes(batch1, batch2, batch3)\n",
    "\n",
    "mx_index_flat = mx_index.expand(*batch, dx).reshape(-1, dx)\n",
    "my_index_flat = my_index.expand(*batch, dy).reshape(-1, dy)\n",
    "mx_mask_flat = mx_mask.expand(*batch, dx).reshape(-1, dx)\n",
    "my_mask_flat = my_mask.expand(*batch, dy).reshape(-1, dy)\n",
    "C_flat = C.expand(*batch, n, m).view(-1, n, m)\n",
    "\n",
    "C_index_flat = m * mx_index_flat +  my_index_flat\n",
    "C_dense_flat = C_flat.gather(-1, C_index_flat)\n"
   ]
  },
  {
   "cell_type": "code",
   "execution_count": 27,
   "id": "7ecd6f06-6a2e-4d09-bf69-178fd690a91e",
   "metadata": {},
   "outputs": [
    {
     "data": {
      "text/plain": [
       "tensor(True)"
      ]
     },
     "execution_count": 27,
     "metadata": {},
     "output_type": "execute_result"
    }
   ],
   "source": [
    "#getting stuff back\n",
    "mx_test = torch.zeros_like(mx)\n",
    "mx_test.scatter_add_(-1, mx_index, mx_dense)\n",
    "(mx_test == mx).all()"
   ]
  },
  {
   "cell_type": "code",
   "execution_count": 28,
   "id": "1822ac17-718e-4e83-a9aa-93dc5b388d29",
   "metadata": {},
   "outputs": [
    {
     "data": {
      "text/plain": [
       "torch.Size([2, 17, 5])"
      ]
     },
     "execution_count": 28,
     "metadata": {},
     "output_type": "execute_result"
    }
   ],
   "source": [
    "mx_index.shape"
   ]
  },
  {
   "cell_type": "code",
   "execution_count": 29,
   "id": "bc640f20-2ccd-4ebb-b7f6-c25ca546b0bd",
   "metadata": {},
   "outputs": [
    {
     "data": {
      "text/plain": [
       "torch.Size([2, 17, 23, 5, 7])"
      ]
     },
     "execution_count": 29,
     "metadata": {},
     "output_type": "execute_result"
    }
   ],
   "source": [
    "C_index2.shape"
   ]
  },
  {
   "cell_type": "code",
   "execution_count": 51,
   "id": "c76e31bd-40dd-49e3-9e4b-edccac50a6e1",
   "metadata": {},
   "outputs": [
    {
     "data": {
      "text/plain": [
       "torch.Size([2, 17, 23, 5, 7])"
      ]
     },
     "execution_count": 51,
     "metadata": {},
     "output_type": "execute_result"
    }
   ],
   "source": [
    "C_dense.shape"
   ]
  },
  {
   "cell_type": "code",
   "execution_count": 50,
   "id": "08bf9c39-b45f-496f-b26c-fc7facb5a8d5",
   "metadata": {},
   "outputs": [
    {
     "ename": "RuntimeError",
     "evalue": "index_add_(): Indexing dim 2 is out of bounds of the source tensor with dim 1",
     "output_type": "error",
     "traceback": [
      "\u001b[0;31m---------------------------------------------------------------------------\u001b[0m",
      "\u001b[0;31mRuntimeError\u001b[0m                              Traceback (most recent call last)",
      "Cell \u001b[0;32mIn[50], line 2\u001b[0m\n\u001b[1;32m      1\u001b[0m C2 \u001b[38;5;241m=\u001b[39m torch\u001b[38;5;241m.\u001b[39mzeros(n, m, b, n, m)\u001b[38;5;241m.\u001b[39mview(n, m, \u001b[38;5;241m-\u001b[39m\u001b[38;5;241m1\u001b[39m)\n\u001b[0;32m----> 2\u001b[0m \u001b[43mC2\u001b[49m\u001b[38;5;241;43m.\u001b[39;49m\u001b[43mindex_add_\u001b[49m\u001b[43m(\u001b[49m\u001b[38;5;241;43m-\u001b[39;49m\u001b[38;5;241;43m1\u001b[39;49m\u001b[43m,\u001b[49m\u001b[43m \u001b[49m\u001b[43mC_index2\u001b[49m\u001b[38;5;241;43m.\u001b[39;49m\u001b[43mview\u001b[49m\u001b[43m(\u001b[49m\u001b[38;5;241;43m-\u001b[39;49m\u001b[38;5;241;43m1\u001b[39;49m\u001b[43m)\u001b[49m\u001b[43m,\u001b[49m\u001b[43m \u001b[49m\u001b[43mC_dense\u001b[49m\u001b[38;5;241;43m.\u001b[39;49m\u001b[43mview\u001b[49m\u001b[43m(\u001b[49m\u001b[38;5;241;43m-\u001b[39;49m\u001b[38;5;241;43m1\u001b[39;49m\u001b[43m)\u001b[49m\u001b[43m)\u001b[49m\n",
      "\u001b[0;31mRuntimeError\u001b[0m: index_add_(): Indexing dim 2 is out of bounds of the source tensor with dim 1"
     ]
    }
   ],
   "source": [
    "C2 = torch.zeros(n, m, b, n, m).view(n, m, -1)\n",
    "C2.index_add_(-1, C_index2.view(-1), C_dense.view(-1))"
   ]
  },
  {
   "cell_type": "code",
   "execution_count": 65,
   "id": "02013ad3-8946-433f-ba34-25e19d8533f8",
   "metadata": {},
   "outputs": [
    {
     "data": {
      "text/plain": [
       "torch.Size([17, 23, 782])"
      ]
     },
     "execution_count": 65,
     "metadata": {},
     "output_type": "execute_result"
    }
   ],
   "source": [
    "rpC.shape"
   ]
  },
  {
   "cell_type": "code",
   "execution_count": 76,
   "id": "d26a72a4-568a-4e34-b1ab-c817e7704892",
   "metadata": {},
   "outputs": [],
   "source": [
    "def re_project_C(C_dense, C_index, C_mask=None):\n",
    "    b, n, m, dx, dy = C_dense.shape\n",
    "    if C_mask is not None:\n",
    "        C_dense = C_dense.clone()\n",
    "        C_dense[C_mask==0]=0\n",
    "    C_dense = torch.einsum(\"bijxy->ijbxy\", C_dense)\n",
    "    C_index = torch.einsum(\"bijxy->ijbxy\", C_index)\n",
    "    C = torch.zeros(n, m, b, n, m).view(n, m, -1) \n",
    "    C.scatter_add_(-1, C_index.reshape(n, m, -1), C_dense.reshape(n, m, -1))\n",
    "    return torch.einsum(\"ijbxy->bijxy\", C.view(n, m, b, n, m))\n",
    "rpC = re_project_C(C_dense, C_index2, C_mask)\n",
    "assert ((rpC == 0) | (rpC == C[:, None, None, ...])).all()"
   ]
  },
  {
   "cell_type": "markdown",
   "id": "176e7e76-6f91-423b-8a41-38755631072f",
   "metadata": {},
   "source": [
    "## Incorporate it into discounted WL"
   ]
  },
  {
   "cell_type": "code",
   "execution_count": 127,
   "id": "8d4faf38-008e-40ed-a561-d33d89aed4b8",
   "metadata": {},
   "outputs": [],
   "source": [
    "from ot_markov_distances.utils import densify, cost_matrix_index, reindex_cost_matrix\n",
    "from ot_markov_distances.discounted_wl import DiscountedWlCostMatrix, double_last_dimension\n",
    "from ot_markov_distances.sinkhorn import sinkhorn_internal"
   ]
  },
  {
   "cell_type": "code",
   "execution_count": 128,
   "id": "c4ff1fc8-b73f-4522-88f6-807cddd4be9c",
   "metadata": {},
   "outputs": [],
   "source": [
    "from ml_lib.misc import all_equal, debug_time\n",
    "from ml_lib.pipeline.annealing_scheduler import get_scheduler\n",
    "import torch\n",
    "from torch import Tensor\n",
    "from torch.nn import functional as F\n"
   ]
  },
  {
   "cell_type": "code",
   "execution_count": 1,
   "id": "b761035f-e1f3-4431-aea8-6b59db9d3ba3",
   "metadata": {},
   "outputs": [
    {
     "ename": "NameError",
     "evalue": "name 'torch' is not defined",
     "output_type": "error",
     "traceback": [
      "\u001b[0;31m---------------------------------------------------------------------------\u001b[0m",
      "\u001b[0;31mNameError\u001b[0m                                 Traceback (most recent call last)",
      "Cell \u001b[0;32mIn[1], line 1\u001b[0m\n\u001b[0;32m----> 1\u001b[0m \u001b[38;5;28;01mclass\u001b[39;00m \u001b[38;5;21;01mDiscountedWlCostMatrixSparse\u001b[39;00m(\u001b[43mtorch\u001b[49m\u001b[38;5;241m.\u001b[39mautograd\u001b[38;5;241m.\u001b[39mFunction):\n\u001b[1;32m      3\u001b[0m     \u001b[38;5;129m@staticmethod\u001b[39m\n\u001b[1;32m      4\u001b[0m     \u001b[38;5;28;01mdef\u001b[39;00m \u001b[38;5;21mforward\u001b[39m(ctx, MX: Tensor, MY: Tensor, \n\u001b[1;32m      5\u001b[0m         distance_matrix: Tensor,\n\u001b[0;32m   (...)\u001b[0m\n\u001b[1;32m     13\u001b[0m         sinkhorn_iter_scheduler\u001b[38;5;241m=\u001b[39m\u001b[38;5;124m\"\u001b[39m\u001b[38;5;124mconstant\u001b[39m\u001b[38;5;124m\"\u001b[39m\n\u001b[1;32m     14\u001b[0m         ):\n\u001b[1;32m     15\u001b[0m         \u001b[38;5;124;03m\"\"\"computes the regularized WL distance\u001b[39;00m\n\u001b[1;32m     16\u001b[0m \n\u001b[1;32m     17\u001b[0m \u001b[38;5;124;03m        computes the regularized WL distance between two markov transition matrices \u001b[39;00m\n\u001b[0;32m   (...)\u001b[0m\n\u001b[1;32m     35\u001b[0m \u001b[38;5;124;03m            sinkhorn_iter: number of sinkhorn iterations for a step\u001b[39;00m\n\u001b[1;32m     36\u001b[0m \u001b[38;5;124;03m        \"\"\"\u001b[39;00m\n",
      "\u001b[0;31mNameError\u001b[0m: name 'torch' is not defined"
     ]
    }
   ],
   "source": [
    "class DiscountedWlCostMatrixSparse(torch.autograd.Function):\n",
    "    \n",
    "    @staticmethod\n",
    "    def forward(ctx, MX: Tensor, MY: Tensor, \n",
    "        distance_matrix: Tensor,\n",
    "        delta: float = .4,\n",
    "        sinkhorn_reg: float=.01,\n",
    "        max_iter: int = 50,\n",
    "        convergence_threshold_rtol = 5e-3,\n",
    "        convergence_threshold_atol = 1e-6,\n",
    "        sinkhorn_iter: int= 100,\n",
    "        return_differences: bool=False,\n",
    "        sinkhorn_iter_scheduler=\"constant\"\n",
    "        ):\n",
    "        \"\"\"computes the regularized WL distance\n",
    "\n",
    "        computes the regularized WL distance between two markov transition matrices \n",
    "        (represented as torch tensor)\n",
    "\n",
    "        Batched over first dimension (b)\n",
    "        \n",
    "        delta can be a torch tensor (or a simple float). \n",
    "        please don’t modify it inplace between forward and backward, I don't check for that\n",
    "\n",
    "        Args:\n",
    "            MX: (b, n, n) first transition tensor\n",
    "            MY: (b, m, m) second transition tensor\n",
    "            l1: (b, n,) label values for the first space\n",
    "            l2: (b, m,) label values for the second space\n",
    "            k: number of steps (k parameter for the WL distance)\n",
    "            muX: stationary distribution for MX (if omitted, will be recomuputed)\n",
    "            muY: stationary distribution for MY (if omitted, will be recomuputed)\n",
    "            reg: regularization parameter for sinkhorn\n",
    "            delta: regularization parameter for WL\n",
    "            sinkhorn_iter: number of sinkhorn iterations for a step\n",
    "        \"\"\"\n",
    "        b, n, n_ = MX.shape\n",
    "        b_, m, m_ = MY.shape\n",
    "        b__, n__, m__  = distance_matrix.shape\n",
    "        assert all_equal(n, n_, n__) and all_equal(m, m_, m__) and all_equal(b, b_, b__)\n",
    "        assert max_iter >= 1, \"Can’t really converge without iterating\"\n",
    "        one_minus_delta = 1 - delta\n",
    "        scheduler = get_scheduler(sinkhorn_iter_scheduler, T_0=max_iter, beta_0=sinkhorn_iter)\n",
    "        \n",
    "        differences = []\n",
    "        debug_time()\n",
    "        with torch.no_grad():\n",
    "            cost_matrix = delta * distance_matrix\n",
    "            cost_matrix = cost_matrix.contiguous()\n",
    "            mx_index, mx_mask, mx_dense = densify(MX)\n",
    "            my_index, my_mask, my_dense = densify(MY)\n",
    "            mx_dense = mx_dense[:, :, None, :] # b, n, 1, dx\n",
    "            my_dense = my_dense[:, None, :, :] # b, 1, m, dy\n",
    "            c_index, c_mask = cost_matrix_index(C, mx_index, my_index, mx_mask, my_mask)\n",
    "\n",
    "            for _ in range(max_iter):\n",
    "                # sinkhorn pass\n",
    "                f, g, log_P = sinkhorn_internal(\n",
    "                        mx_dense, # b, n, 1, dx\n",
    "                        my_dense, # b, 1, m, dy\n",
    "                        reindex_cost_matrix(C, c_index, c_mask), # b, n, m, dx, dy\n",
    "                        epsilon=sinkhorn_reg, \n",
    "                        k= int(scheduler.step()) + 1\n",
    "                )# f : (b, n, m, dx) , g:(b, n, m, dy), log_P:(b, n, m, dx, dy)\n",
    "                sinkhorn_result = (f * mx_dense).sum(-1) + (g*my_dense).sum(-1)\n",
    "                # update\n",
    "                new_cost_matrix = delta * distance_matrix \\\n",
    "                    + one_minus_delta * sinkhorn_result # b, n, m\n",
    "                new_cost_matrix = new_cost_matrix.contiguous()\n",
    "                \n",
    "                # stop condition \n",
    "                if torch.allclose(cost_matrix, new_cost_matrix, \n",
    "                            rtol=convergence_threshold_rtol,\n",
    "                            atol=convergence_threshold_atol):\n",
    "                    break\n",
    "                differences.append(F.mse_loss(cost_matrix, new_cost_matrix))\n",
    "                cost_matrix = new_cost_matrix \n",
    "                debug_time(\"iteration\")\n",
    "            else:\n",
    "                warnings.warn(\"regularized WL did not converge\")\n",
    "\n",
    "        ctx.save_for_backward(f, g, log_P, mx_index, my_index, mx_mask, my_mask, c_index, c_mask) #type:ignore\n",
    "        ctx.delta = delta\n",
    "        ctx.one_minus_delta = one_minus_delta\n",
    "        if return_differences:\n",
    "            return cost_matrix, differences\n",
    "        return cost_matrix\n",
    "        \n",
    "    @staticmethod\n",
    "    def backward(ctx, grad_output):\n",
    "        \"\"\"\n",
    "        See the paper for details on how the backward pass is computed.\n",
    "        \n",
    "        Args:\n",
    "            grad_output: (b,)\n",
    "        \"\"\"\n",
    "        f_dense, g_dense, log_P_dense, mx_index, my_index, mx_mask, my_mask, c_index, c_mask = ctx.saved_tensors\n",
    "        b, n, m, dx, dy = log_P_dense.shape\n",
    "        delta = ctx.delta\n",
    "        one_minus_delta = ctx.one_minus_delta\n",
    "        device = log_P_dense.device\n",
    "        \n",
    "        with torch.no_grad():\n",
    "            #restore f, g, log_P to the right size            \n",
    "            f = torch.zeros((b, n, m, n))\\\n",
    "                .scatter_add_(-1, mx_index[:, :, None, :].broadcast_to(b, n, m, dx), f_dense)\n",
    "            g = torch.zeros((b, n, m, m))\\\n",
    "                .scatter_add_(-1, my_index[:, None, :, :].broadcast_to(b, n, m, dy), g_dense)\n",
    "            #P_dense[c_mask == 0] = 0 # I dont think i actually want that. \n",
    "            P_dense= log_P_dense.exp()\n",
    "            P = re_project_C(P_dense, c_index)    \n",
    "            #P = log_P.exp() #b, n, m, n, m\n",
    "            # f  (b, n, m, n)\n",
    "            # F = torch.einsum(\"bijl->bijil\", f) #doesnt work but that’s the idea\n",
    "            F = torch.permute(f, (0, 2, 3, 1)) #bijl -> bjli\n",
    "            F = double_last_dimension(F) #bjlii\n",
    "            F = torch.permute(F, (0, 3, 1, 4, 2)) #bijil\n",
    "            # (n, m, n, n)\n",
    "            # g (b, n, m, m)\n",
    "            # G = torch.einsum(\"bijl->bijjl\", g) #(n, m, m, m)\n",
    "            G = torch.permute(g, (0, 1, 3, 2)) #bijl -> bilj\n",
    "            G = double_last_dimension(G) #biljj\n",
    "            G = torch.permute(G, (0, 1, 3, 4, 2)) #bijjl \n",
    "        \n",
    "            mymatrix = torch.eye(n*m, device=device)[None, ...] - one_minus_delta * P.reshape(b, n*m, n*m) \n",
    "            # b, n*m, n*m\n",
    "            \n",
    "            #print(torch.det(mymatrix))\n",
    "            #print(mymatrix)\n",
    "            #see paper for a proof this is diagonally dominant, thus invertible\n",
    "            Delta = delta * torch.inverse(mymatrix)\n",
    "            Gamma = one_minus_delta * torch.linalg.solve(mymatrix, F.reshape(b, n*m, n*n))\n",
    "            Theta = one_minus_delta * torch.linalg.solve(mymatrix, G.reshape(b, n*m, m*m))\n",
    "            \n",
    "            Delta = Delta.reshape(b, n, m, n, m)\n",
    "            Gamma = Gamma.reshape(b, n, m, n, n) \n",
    "            Theta = Theta.reshape(b, n, m, m, m)\n",
    "\n",
    "            d_cost_matrix = torch.einsum(\"bijkl,bij->bkl\", Delta, grad_output)\n",
    "            d_mx = torch.einsum(\"bijkl,bij->bkl\", Gamma, grad_output)\n",
    "            d_my = torch.einsum(\"bijkl,bij->bkl\", Theta, grad_output)\n",
    "                        \n",
    "            d_mx = d_mx - d_mx.mean(-1, keepdims=True)# normalize the markov gradients to stay in the markov space\n",
    "            d_my = d_my - d_my.mean(-1, keepdims=True)        \n",
    "        return (d_mx, d_my, d_cost_matrix, *[None]*8 )\n",
    "\n",
    "mx = mx.detach().requires_grad_()\n",
    "my = my.detach().requires_grad_()\n",
    "C = C.detach().requires_grad_()\n",
    "\n",
    "C_infty = DiscountedWlCostMatrixSparse.apply(mx, my, C)\n",
    "C_infty.sum().backward()\n",
    "\n",
    "mx_new_grad = mx.grad.detach().clone()\n",
    "my_new_grad = my.grad.detach().clone()\n",
    "C_new_grad = C.grad.detach().clone()"
   ]
  },
  {
   "cell_type": "code",
   "execution_count": null,
   "id": "99c055b6-43dd-4b4c-bde4-1e73a1f7dd39",
   "metadata": {},
   "outputs": [],
   "source": [
    "class DiscountedWlCostMatrixSparse(torch.autograd.Function):\n",
    "    \n",
    "    @staticmethod\n",
    "    def forward(ctx, MX: Tensor, MY: Tensor, \n",
    "        distance_matrix: Tensor,\n",
    "        delta: float = .4,\n",
    "        sinkhorn_reg: float=.01,\n",
    "        max_iter: int = 50,\n",
    "        convergence_threshold_rtol = 5e-3,\n",
    "        convergence_threshold_atol = 1e-6,\n",
    "        sinkhorn_iter: int= 100,\n",
    "        return_differences: bool=False,\n",
    "        sinkhorn_iter_scheduler=\"constant\"\n",
    "        ):\n",
    "        \"\"\"computes the regularized WL distance\n",
    "\n",
    "        computes the regularized WL distance between two markov transition matrices \n",
    "        (represented as torch tensor)\n",
    "\n",
    "        Batched over first dimension (b)\n",
    "        \n",
    "        delta can be a torch tensor (or a simple float). \n",
    "        please don’t modify it inplace between forward and backward, I don't check for that\n",
    "\n",
    "        Args:\n",
    "            MX: (b, n, n) first transition tensor\n",
    "            MY: (b, m, m) second transition tensor\n",
    "            l1: (b, n,) label values for the first space\n",
    "            l2: (b, m,) label values for the second space\n",
    "            k: number of steps (k parameter for the WL distance)\n",
    "            muX: stationary distribution for MX (if omitted, will be recomuputed)\n",
    "            muY: stationary distribution for MY (if omitted, will be recomuputed)\n",
    "            reg: regularization parameter for sinkhorn\n",
    "            delta: regularization parameter for WL\n",
    "            sinkhorn_iter: number of sinkhorn iterations for a step\n",
    "        \"\"\"\n",
    "        b, n, n_ = MX.shape\n",
    "        b_, m, m_ = MY.shape\n",
    "        b__, n__, m__  = distance_matrix.shape\n",
    "        assert all_equal(n, n_, n__) and all_equal(m, m_, m__) and all_equal(b, b_, b__)\n",
    "        assert max_iter >= 1, \"Can’t really converge without iterating\"\n",
    "        one_minus_delta = 1 - delta\n",
    "        scheduler = get_scheduler(sinkhorn_iter_scheduler, T_0=max_iter, beta_0=sinkhorn_iter)\n",
    "        \n",
    "        differences = []\n",
    "        debug_time()\n",
    "        with torch.no_grad():\n",
    "            cost_matrix = delta * distance_matrix\n",
    "            cost_matrix = cost_matrix.contiguous()\n",
    "            mx_index, mx_mask, mx_dense = densify(MX)\n",
    "            my_index, my_mask, my_dense = densify(MY)\n",
    "            mx_dense = mx_dense[:, :, None, :] # b, n, 1, dx\n",
    "            my_dense = my_dense[:, None, :, :] # b, 1, m, dy\n",
    "            c_index, c_mask = cost_matrix_index(C, mx_index, my_index, mx_mask, my_mask)\n",
    "\n",
    "            for _ in range(max_iter):\n",
    "                # sinkhorn pass\n",
    "                sinkhorn_result = sinkhorn(\n",
    "                        mx_dense, # b, n, 1, dx\n",
    "                        my_dense, # b, 1, m, dy\n",
    "                        reindex_cost_matrix(C, c_index, c_mask), # b, n, m, dx, dy\n",
    "                        epsilon=sinkhorn_reg, \n",
    "                        k= int(scheduler.step()) + 1\n",
    "                )\n",
    "                # update\n",
    "                new_cost_matrix = delta * distance_matrix \\\n",
    "                    + one_minus_delta * sinkhorn_result # b, n, m\n",
    "                new_cost_matrix = new_cost_matrix.contiguous()\n",
    "                \n",
    "                # stop condition \n",
    "                if torch.allclose(cost_matrix, new_cost_matrix, \n",
    "                            rtol=convergence_threshold_rtol,\n",
    "                            atol=convergence_threshold_atol):\n",
    "                    break\n",
    "                differences.append(F.mse_loss(cost_matrix, new_cost_matrix))\n",
    "                cost_matrix = new_cost_matrix\n",
    "                debug_time(\"iteration\")\n",
    "            else:\n",
    "                warnings.warn(\"regularized WL did not converge\")\n",
    "\n",
    "        ctx.save_for_backward(f, g, log_P, mx_index, my_index, mx_mask, my_mask, c_index, c_mask) #type:ignore\n",
    "        ctx.delta = delta\n",
    "        ctx.one_minus_delta = one_minus_delta\n",
    "        if return_differences:\n",
    "            return cost_matrix, differences\n",
    "        return cost_matrix\n",
    "        \n",
    "    @staticmethod\n",
    "    def backward(ctx, grad_output):\n",
    "        \"\"\"\n",
    "        See the paper for details on how the backward pass is computed.\n",
    "        \n",
    "        Args:\n",
    "            grad_output: (b,)\n",
    "        \"\"\"\n",
    "        f_dense, g_dense, log_P_dense, mx_index, my_index, mx_mask, my_mask, c_index, c_mask = ctx.saved_tensors\n",
    "        b, n, m, dx, dy = log_P_dense.shape\n",
    "        delta = ctx.delta\n",
    "        one_minus_delta = ctx.one_minus_delta\n",
    "        device = log_P_dense.device\n",
    "        \n",
    "        with torch.no_grad():\n",
    "            #restore f, g, log_P to the right size            \n",
    "            f = torch.zeros((b, n, m, n))\\\n",
    "                .scatter_add_(-1, mx_index[:, :, None, :].broadcast_to(b, n, m, dx), f_dense)\n",
    "            g = torch.zeros((b, n, m, m))\\\n",
    "                .scatter_add_(-1, my_index[:, None, :, :].broadcast_to(b, n, m, dy), g_dense)\n",
    "            #P_dense[c_mask == 0] = 0 # I dont think i actually want that. \n",
    "            P_dense= log_P_dense.exp()\n",
    "            P = re_project_C(P_dense, c_index)    \n",
    "            #P = log_P.exp() #b, n, m, n, m\n",
    "            # f  (b, n, m, n)\n",
    "            # F = torch.einsum(\"bijl->bijil\", f) #doesnt work but that’s the idea\n",
    "            F = torch.permute(f, (0, 2, 3, 1)) #bijl -> bjli\n",
    "            F = double_last_dimension(F) #bjlii\n",
    "            F = torch.permute(F, (0, 3, 1, 4, 2)) #bijil\n",
    "            # (n, m, n, n)\n",
    "            # g (b, n, m, m)\n",
    "            # G = torch.einsum(\"bijl->bijjl\", g) #(n, m, m, m)\n",
    "            G = torch.permute(g, (0, 1, 3, 2)) #bijl -> bilj\n",
    "            G = double_last_dimension(G) #biljj\n",
    "            G = torch.permute(G, (0, 1, 3, 4, 2)) #bijjl \n",
    "        \n",
    "            mymatrix = torch.eye(n*m, device=device)[None, ...] - one_minus_delta * P.reshape(b, n*m, n*m) \n",
    "            # b, n*m, n*m\n",
    "            \n",
    "            #print(torch.det(mymatrix))\n",
    "            #print(mymatrix)\n",
    "            #see paper for a proof this is diagonally dominant, thus invertible\n",
    "            Delta = delta * torch.inverse(mymatrix)\n",
    "            Gamma = one_minus_delta * torch.linalg.solve(mymatrix, F.reshape(b, n*m, n*n))\n",
    "            Theta = one_minus_delta * torch.linalg.solve(mymatrix, G.reshape(b, n*m, m*m))\n",
    "            \n",
    "            Delta = Delta.reshape(b, n, m, n, m)\n",
    "            Gamma = Gamma.reshape(b, n, m, n, n) \n",
    "            Theta = Theta.reshape(b, n, m, m, m)\n",
    "\n",
    "            d_cost_matrix = torch.einsum(\"bijkl,bij->bkl\", Delta, grad_output)\n",
    "            d_mx = torch.einsum(\"bijkl,bij->bkl\", Gamma, grad_output)\n",
    "            d_my = torch.einsum(\"bijkl,bij->bkl\", Theta, grad_output)\n",
    "                        \n",
    "            d_mx = d_mx - d_mx.mean(-1, keepdims=True)# normalize the markov gradients to stay in the markov space\n",
    "            d_my = d_my - d_my.mean(-1, keepdims=True)        \n",
    "        return (d_mx, d_my, d_cost_matrix, *[None]*8 )\n",
    "\n",
    "mx = mx.detach().requires_grad_()\n",
    "my = my.detach().requires_grad_()\n",
    "C = C.detach().requires_grad_()\n",
    "\n",
    "C_infty = DiscountedWlCostMatrixSparse.apply(mx, my, C)\n",
    "C_infty.sum().backward()\n",
    "\n",
    "mx_new_grad = mx.grad.detach().clone()\n",
    "my_new_grad = my.grad.detach().clone()\n",
    "C_new_grad = C.grad.detach().clone()"
   ]
  },
  {
   "cell_type": "code",
   "execution_count": 151,
   "id": "ffabcd56-c166-4426-b00f-d89aebece25f",
   "metadata": {},
   "outputs": [
    {
     "name": "stderr",
     "output_type": "stream",
     "text": [
      "INFO:root:iteration: time elapsed 1.5979630313813686s\n",
      "INFO:root:iteration: time elapsed 1.5599573720246553s\n",
      "INFO:root:iteration: time elapsed 1.2026522997766733s\n",
      "INFO:root:iteration: time elapsed 1.4931569267064333s\n",
      "INFO:root:iteration: time elapsed 1.4285323228687048s\n",
      "INFO:root:iteration: time elapsed 1.390657739713788s\n",
      "INFO:root:iteration: time elapsed 1.5235140081495047s\n",
      "INFO:root:iteration: time elapsed 1.3720796387642622s\n",
      "INFO:root:iteration: time elapsed 1.358828354626894s\n",
      "INFO:root:iteration: time elapsed 1.4717292338609695s\n"
     ]
    }
   ],
   "source": [
    "mx = mx.detach().requires_grad_()\n",
    "my = my.detach().requires_grad_()\n",
    "C = C.detach().requires_grad_()\n",
    "C_infty2 = DiscountedWlCostMatrix.apply(mx, my, C)\n",
    "C_infty2.sum().backward()"
   ]
  },
  {
   "cell_type": "code",
   "execution_count": 152,
   "id": "5609ddcd-d2a9-48ac-9a9d-a9bcde6885c4",
   "metadata": {},
   "outputs": [
    {
     "data": {
      "image/png": "[encoded data removed]",
      "text/plain": [
       "<Figure size 640x480 with 2 Axes>"
      ]
     },
     "metadata": {},
     "output_type": "display_data"
    }
   ],
   "source": [
    "import seaborn as sns\n",
    "cmap = sns.diverging_palette(230, 20, as_cmap=True)\n",
    "heatmap((C_infty[0]-  C_infty2[0]) / C_infty[0], center = 0, cmap=cmap)"
   ]
  },
  {
   "cell_type": "code",
   "execution_count": 153,
   "id": "0a762a0a-5bc4-4534-9b35-36cf2b17cdf1",
   "metadata": {},
   "outputs": [],
   "source": [
    "mx_grad = mx.grad.detach().clone()\n",
    "my_grad = my.grad.detach().clone()\n",
    "C_grad = C.grad.detach().clone()"
   ]
  },
  {
   "cell_type": "code",
   "execution_count": 160,
   "id": "5ea917bf-2060-49cc-a74d-a1be7f46472e",
   "metadata": {},
   "outputs": [
    {
     "data": {
      "text/plain": [
       "tensor([ -4.3255,  -8.3788,   8.8664,  -9.1317,  -8.6410, -11.0822,  -5.8388,\n",
       "          5.5822,  10.1769,   4.7544,   0.4675,  10.0877,  -9.7420, -10.1103,\n",
       "          6.4100,   4.1171,  16.7880])"
      ]
     },
     "execution_count": 160,
     "metadata": {},
     "output_type": "execute_result"
    }
   ],
   "source": [
    "mx_grad[0, 0]"
   ]
  },
  {
   "cell_type": "code",
   "execution_count": 161,
   "id": "c5f0e0f9-13f7-4bdc-9ba9-835209c9c726",
   "metadata": {},
   "outputs": [
    {
     "data": {
      "text/plain": [
       "tensor([ 0.6936, -7.0199, -7.0199, -7.0199, -7.0199, -7.0199, -7.0199, -7.0199,\n",
       "        36.7321, -7.0199, -7.0199, 35.0043, -7.0199, -7.0199, -7.0199, 18.8289,\n",
       "        -7.0199])"
      ]
     },
     "execution_count": 161,
     "metadata": {},
     "output_type": "execute_result"
    }
   ],
   "source": [
    "mx_new_grad[0, 0]"
   ]
  },
  {
   "cell_type": "code",
   "execution_count": 166,
   "id": "43eaff02-e476-4c9a-b7b3-138857aee7e8",
   "metadata": {},
   "outputs": [],
   "source": [
    "a = mx[0, 0]"
   ]
  },
  {
   "cell_type": "code",
   "execution_count": 167,
   "id": "3cdd1c65-9db6-4b6d-af2b-941c972b72d0",
   "metadata": {},
   "outputs": [],
   "source": [
    "b = my[0, 0]"
   ]
  },
  {
   "cell_type": "code",
   "execution_count": 180,
   "id": "9b8d8d8b-017a-4f0c-8186-18aea0000a69",
   "metadata": {},
   "outputs": [],
   "source": [
    "a_dense = mx_dense[0, 0]\n",
    "b_dense = my_dense[0, 0]\n",
    "C_test = C_dense[0, 0, 0]"
   ]
  },
  {
   "cell_type": "code",
   "execution_count": 178,
   "id": "5e384efa-3b3a-41bb-9fac-19d508a74a7e",
   "metadata": {},
   "outputs": [
    {
     "data": {
      "text/plain": [
       "tensor(1.1836, grad_fn=<SinkhornBackward>)"
      ]
     },
     "execution_count": 178,
     "metadata": {},
     "output_type": "execute_result"
    }
   ],
   "source": [
    "sinkhorn(a, b, C[0], epsilon=.1)"
   ]
  },
  {
   "cell_type": "code",
   "execution_count": 181,
   "id": "7c1a284b-d0d7-44c5-82e7-57569457a3bd",
   "metadata": {},
   "outputs": [
    {
     "data": {
      "text/plain": [
       "tensor(1.1836)"
      ]
     },
     "execution_count": 181,
     "metadata": {},
     "output_type": "execute_result"
    }
   ],
   "source": [
    "sinkhorn(a_dense, b_dense, C_test, epsilon=.1)"
   ]
  },
  {
   "cell_type": "code",
   "execution_count": 183,
   "id": "a372495b-3fd1-412c-98ca-ee5c025b44fc",
   "metadata": {},
   "outputs": [],
   "source": [
    "f_test, g_test, lP_test = sinkhorn_internal(a, b, C[0], epsilon=.1)\n",
    "f_test2, g_test2, lP_test2 = sinkhorn_internal(a_dense, b_dense, C_test, epsilon=.1)\n"
   ]
  },
  {
   "cell_type": "code",
   "execution_count": 184,
   "id": "299e08fd-e7ff-4b48-bdeb-d3ec97cc53af",
   "metadata": {},
   "outputs": [
    {
     "data": {
      "text/plain": [
       "tensor([ 1.6038,  0.6738,  1.3214, -0.6177,  0.5780,  0.0400, -0.5445,  1.1845,\n",
       "         1.2837, -0.3121,  0.1945,  0.7306, -1.2066,  0.6633,  1.4521, -0.2891,\n",
       "         1.5098], grad_fn=<MulBackward0>)"
      ]
     },
     "execution_count": 184,
     "metadata": {},
     "output_type": "execute_result"
    }
   ],
   "source": [
    "f_test"
   ]
  },
  {
   "cell_type": "code",
   "execution_count": 189,
   "id": "37b77704-d544-444d-9c64-ef79baa68b03",
   "metadata": {},
   "outputs": [],
   "source": [
    "f_test2_z = f_test2.clone()\n",
    "f_test2_z[mx_mask[0, 0] == 0] = 0."
   ]
  },
  {
   "cell_type": "code",
   "execution_count": 190,
   "id": "4bb11112-9964-48be-9451-a3207d0ed4a6",
   "metadata": {},
   "outputs": [
    {
     "data": {
      "text/plain": [
       "tensor([ 1.6497,  0.0000,  0.0000,  0.0000,  0.0000,  0.0000,  0.0000,  0.0000,\n",
       "         1.3296,  0.0000,  0.0000,  0.7765,  0.0000,  0.0000,  0.0000, -0.2433,\n",
       "         0.0000])"
      ]
     },
     "execution_count": 190,
     "metadata": {},
     "output_type": "execute_result"
    }
   ],
   "source": [
    "torch.zeros_like(f_test).index_add(0, mx_index[0, 0], f_test2_z )"
   ]
  },
  {
   "cell_type": "code",
   "execution_count": 187,
   "id": "a9ec6776-0bcd-47c1-bb2b-aa9c1d57ed03",
   "metadata": {},
   "outputs": [
    {
     "data": {
      "text/plain": [
       "tensor([ 0,  8, 11, 15,  0])"
      ]
     },
     "execution_count": 187,
     "metadata": {},
     "output_type": "execute_result"
    }
   ],
   "source": [
    "mx_index[0, 0]"
   ]
  },
  {
   "cell_type": "code",
   "execution_count": 188,
   "id": "b26bb9f8-a658-43b1-b3ed-0f2c87ea7eba",
   "metadata": {},
   "outputs": [
    {
     "data": {
      "text/plain": [
       "tensor([ 1.6497,  1.3296,  0.7765, -0.2433, -0.5727])"
      ]
     },
     "execution_count": 188,
     "metadata": {},
     "output_type": "execute_result"
    }
   ],
   "source": [
    "f_test2"
   ]
  },
  {
   "cell_type": "code",
   "execution_count": null,
   "id": "50a347a4-c8a9-47a0-aabc-df42aae86f56",
   "metadata": {},
   "outputs": [],
   "source": []
  }
 ],
 "metadata": {
  "kernelspec": {
   "display_name": "Python 3 (ipykernel)",
   "language": "python",
   "name": "python3"
  },
  "language_info": {
   "codemirror_mode": {
    "name": "ipython",
    "version": 3
   },
   "file_extension": ".py",
   "mimetype": "text/x-python",
   "name": "python",
   "nbconvert_exporter": "python",
   "pygments_lexer": "ipython3",
   "version": "3.10.8"
  }
 },
 "nbformat": 4,
 "nbformat_minor": 5
}
